{
 "cells": [
  {
   "cell_type": "code",
   "execution_count": 9,
   "id": "f24bff21-c71f-4309-8004-c9e2c03086ad",
   "metadata": {},
   "outputs": [],
   "source": [
    "import pandas as pd"
   ]
  },
  {
   "cell_type": "code",
   "execution_count": 10,
   "id": "4571bbd9-ab1d-47e8-b3af-9e0e46bc8f05",
   "metadata": {},
   "outputs": [],
   "source": [
    "df = pd.read_csv('flights.csv')\n"
   ]
  },
  {
   "cell_type": "code",
   "execution_count": 11,
   "id": "2529fde4-334c-4ec0-8247-2807deb45c1d",
   "metadata": {},
   "outputs": [
    {
     "name": "stdout",
     "output_type": "stream",
     "text": [
      "<class 'pandas.core.frame.DataFrame'>\n",
      "RangeIndex: 336776 entries, 0 to 336775\n",
      "Data columns (total 21 columns):\n",
      " #   Column          Non-Null Count   Dtype  \n",
      "---  ------          --------------   -----  \n",
      " 0   id              336776 non-null  int64  \n",
      " 1   year            336776 non-null  int64  \n",
      " 2   month           336776 non-null  int64  \n",
      " 3   day             336776 non-null  int64  \n",
      " 4   dep_time        328521 non-null  float64\n",
      " 5   sched_dep_time  336776 non-null  int64  \n",
      " 6   dep_delay       328521 non-null  float64\n",
      " 7   arr_time        328063 non-null  float64\n",
      " 8   sched_arr_time  336776 non-null  int64  \n",
      " 9   arr_delay       327346 non-null  float64\n",
      " 10  carrier         336776 non-null  object \n",
      " 11  flight          336776 non-null  int64  \n",
      " 12  tailnum         334264 non-null  object \n",
      " 13  origin          336776 non-null  object \n",
      " 14  dest            336776 non-null  object \n",
      " 15  air_time        327346 non-null  float64\n",
      " 16  distance        336776 non-null  int64  \n",
      " 17  hour            336776 non-null  int64  \n",
      " 18  minute          336776 non-null  int64  \n",
      " 19  time_hour       336776 non-null  object \n",
      " 20  name            336776 non-null  object \n",
      "dtypes: float64(5), int64(10), object(6)\n",
      "memory usage: 54.0+ MB\n"
     ]
    }
   ],
   "source": [
    "df.info()"
   ]
  },
  {
   "cell_type": "code",
   "execution_count": 12,
   "id": "7b6ac034-bcd0-4a7d-8225-25f7c327d603",
   "metadata": {},
   "outputs": [],
   "source": [
    "# Check if there is a relation between airline and delay time"
   ]
  },
  {
   "cell_type": "code",
   "execution_count": 13,
   "id": "ddd17217-698a-440f-82f3-7018feaf6a05",
   "metadata": {},
   "outputs": [],
   "source": [
    "airline_delays = df.groupby('name')['arr_delay'].mean()"
   ]
  },
  {
   "cell_type": "code",
   "execution_count": 15,
   "id": "b4ee3559-cfc2-49b6-a075-ca2810ffebf0",
   "metadata": {},
   "outputs": [
    {
     "name": "stdout",
     "output_type": "stream",
     "text": [
      "name\n",
      "Frontier Airlines Inc.         21.920705\n",
      "AirTran Airways Corporation    20.115906\n",
      "ExpressJet Airlines Inc.       15.796431\n",
      "Mesa Airlines Inc.             15.556985\n",
      "SkyWest Airlines Inc.          11.931034\n",
      "Envoy Air                      10.774733\n",
      "Southwest Airlines Co.          9.649120\n",
      "JetBlue Airways                 9.457973\n",
      "Endeavor Air Inc.               7.379669\n",
      "United Air Lines Inc.           3.558011\n",
      "US Airways Inc.                 2.129595\n",
      "Virgin America                  1.764464\n",
      "Delta Air Lines Inc.            1.644341\n",
      "American Airlines Inc.          0.364291\n",
      "Hawaiian Airlines Inc.         -6.915205\n",
      "Alaska Airlines Inc.           -9.930889\n",
      "Name: arr_delay, dtype: float64\n"
     ]
    }
   ],
   "source": [
    "print(airline_delays.sort_values(ascending=False))"
   ]
  },
  {
   "cell_type": "code",
   "execution_count": 16,
   "id": "89d78973-023c-4e21-ab04-3a25555a0d91",
   "metadata": {},
   "outputs": [],
   "source": [
    "#Here we can assume that it is more probable that when we fly with Frontier Airlines it's more probable that we will have a delay than with Alaska Airlines."
   ]
  },
  {
   "cell_type": "code",
   "execution_count": null,
   "id": "dbc6575b-a8cc-42ea-a7b4-7b915bb58fdc",
   "metadata": {},
   "outputs": [],
   "source": []
  }
 ],
 "metadata": {
  "kernelspec": {
   "display_name": "Python 3 (ipykernel)",
   "language": "python",
   "name": "python3"
  },
  "language_info": {
   "codemirror_mode": {
    "name": "ipython",
    "version": 3
   },
   "file_extension": ".py",
   "mimetype": "text/x-python",
   "name": "python",
   "nbconvert_exporter": "python",
   "pygments_lexer": "ipython3",
   "version": "3.10.11"
  }
 },
 "nbformat": 4,
 "nbformat_minor": 5
}
